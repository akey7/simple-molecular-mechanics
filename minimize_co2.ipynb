{
 "cells": [
  {
   "cell_type": "markdown",
   "metadata": {},
   "source": [
    "# Minimize CO2\n",
    "Perform a geometry minimization of a perturbed CO2 structure."
   ]
  },
  {
   "cell_type": "code",
   "execution_count": 1,
   "metadata": {},
   "outputs": [],
   "source": [
    "import matplotlib.pyplot as plt"
   ]
  },
  {
   "cell_type": "markdown",
   "metadata": {},
   "source": [
    "A function to compute total stretch potential energy of the CO2 system. Default value for k is the force constant for CO2 from: [Looking at molecules as oscillators](http://spiff.rit.edu/classes/phys283/lectures/molecule/molecule.html)"
   ]
  },
  {
   "cell_type": "code",
   "execution_count": 2,
   "metadata": {},
   "outputs": [],
   "source": [
    "def stretch_energy(r_o1, r_o2, r_0=1.1621e-10, k=1900e-10):\n",
    "    \"\"\" \n",
    "    Calculates total stretch energy of a CO2 system. Since CO2\n",
    "    is linear, all coordinates are a radius relative to 0. C\n",
    "    sits at 0, and O1 and O2 sit at their respective radii to the\n",
    "    left and right on the x-axis.\n",
    "\n",
    "    Parameters\n",
    "    ----------\n",
    "    r_o1: float\n",
    "        The radius of o1 in meters (on the order of 10^-10 m, and < 0)\n",
    "\n",
    "    r_o2: float\n",
    "        The radius of o2 in meters (on the order 10^-10 m, and > 0)\n",
    "\n",
    "    r_0: float\n",
    "        Equilibrium radius of C=O bond in meters. Default is reasonable\n",
    "        for CO2.\n",
    "\n",
    "    k: float\n",
    "        Force constant of the C=O bonds in N/m.\n",
    "\n",
    "    Returns\n",
    "    -------\n",
    "    float\n",
    "        The total stretch energy of CO2 in J\n",
    "    \"\"\"\n",
    "    return 0.5*k*(r_o1-r_0)**2 + 0.5*k*(r_o2-r_0)**2"
   ]
  },
  {
   "cell_type": "code",
   "execution_count": 3,
   "metadata": {},
   "outputs": [],
   "source": [
    "def stretch_energy_gradient(r_o1, r_o2, r_0=1.1621e-10, k=1):\n",
    "    \"\"\"\n",
    "    Computes the stretch energy gradient and returns a list of the values\n",
    "    of the partial derivatives for each oxygen radius coordinate.\n",
    "\n",
    "    Parameters\n",
    "    ----------\n",
    "    r_o1: float\n",
    "        The radius of o1 in meters (on the order of 10^-10 m, and < 0)\n",
    "\n",
    "    r_o2: float\n",
    "        The radius of o2 in meters (on the order 10^-10 m, and > 0)\n",
    "\n",
    "    r_0: float\n",
    "        Equilibrium radius of C=O bond in meters. Default is reasonable\n",
    "        for CO2.\n",
    "\n",
    "    k: float\n",
    "        Force constant of the C=O bonds in N/m.\n",
    "\n",
    "    Returns\n",
    "    -------\n",
    "    float, float\n",
    "        Components of gradient vector.\n",
    "    \"\"\"\n",
    "    return 0.5*k*(2*r_o1-2*r_0), 0.5*k*(2*r_o2-2*r_0)"
   ]
  },
  {
   "cell_type": "markdown",
   "metadata": {},
   "source": [
    "Prepare the initial geometry. In the  upcoming dictionaries, `u` means potential energy."
   ]
  },
  {
   "cell_type": "code",
   "execution_count": 4,
   "metadata": {},
   "outputs": [],
   "source": [
    "r_o1_initial = 1.2e-10\n",
    "r_o2_initial = -1.2e-10\n",
    "\n",
    "optimization_iterations = [{\n",
    "    'r_o1': r_o1_initial,\n",
    "    'r_o2': r_o2_initial,\n",
    "    'u': stretch_energy(r_o1=r_o1_initial, r_o2=r_o2_initial)\n",
    "}]"
   ]
  },
  {
   "cell_type": "markdown",
   "metadata": {},
   "source": [
    "Run an optimization. `learn_rate` specifies the width of steps along the gradient."
   ]
  },
  {
   "cell_type": "code",
   "execution_count": 5,
   "metadata": {},
   "outputs": [],
   "source": [
    "learn_rate = 0.1\n",
    "for _ in range(100):\n",
    "    r_o1 = optimization_iterations[-1]['r_o1']\n",
    "    r_o2 = optimization_iterations[-1]['r_o2']\n",
    "    grad_o1, grad_o2 = stretch_energy_gradient(r_o1=r_o1, r_o2=r_o2)\n",
    "    next_r_o1 = r_o1 - grad_o1 * learn_rate\n",
    "    next_r_o2 = r_o2 - grad_o2 * learn_rate\n",
    "    next_u = stretch_energy(r_o1=next_r_o1, r_o2=next_r_o2)\n",
    "    optimization_iterations.append({\n",
    "        'r_o1': next_r_o1,\n",
    "        'r_o2': next_r_o2,\n",
    "        'u': next_u\n",
    "    })"
   ]
  },
  {
   "cell_type": "code",
   "execution_count": 6,
   "metadata": {},
   "outputs": [
    {
     "data": {
      "text/plain": [
       "{'r_o1': 1.2e-10, 'r_o2': -1.2e-10, 'u': 5.301905179e-27}"
      ]
     },
     "execution_count": 6,
     "metadata": {},
     "output_type": "execute_result"
    }
   ],
   "source": [
    "optimization_iterations[0]"
   ]
  },
  {
   "cell_type": "code",
   "execution_count": 7,
   "metadata": {},
   "outputs": [
    {
     "data": {
      "text/plain": [
       "{'r_o1': 1.162101006677018e-10,\n",
       " 'r_o2': 1.1620372593196878e-10,\n",
       " 'u': 3.7405360464314765e-36}"
      ]
     },
     "execution_count": 7,
     "metadata": {},
     "output_type": "execute_result"
    }
   ],
   "source": [
    "optimization_iterations[-1]"
   ]
  },
  {
   "cell_type": "code",
   "execution_count": null,
   "metadata": {},
   "outputs": [],
   "source": []
  }
 ],
 "metadata": {
  "kernelspec": {
   "display_name": "simple-molecular-mechanics",
   "language": "python",
   "name": "python3"
  },
  "language_info": {
   "codemirror_mode": {
    "name": "ipython",
    "version": 3
   },
   "file_extension": ".py",
   "mimetype": "text/x-python",
   "name": "python",
   "nbconvert_exporter": "python",
   "pygments_lexer": "ipython3",
   "version": "3.11.7"
  }
 },
 "nbformat": 4,
 "nbformat_minor": 2
}
