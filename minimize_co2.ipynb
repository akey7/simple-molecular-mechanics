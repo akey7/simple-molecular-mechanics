{
 "cells": [
  {
   "cell_type": "markdown",
   "metadata": {},
   "source": [
    "# Minimize CO2\n",
    "Perform a geometry minimization of a perturbed CO2 structure."
   ]
  },
  {
   "cell_type": "code",
   "execution_count": 1,
   "metadata": {},
   "outputs": [],
   "source": [
    "import matplotlib.pyplot as plt"
   ]
  },
  {
   "cell_type": "markdown",
   "metadata": {},
   "source": [
    "A function to compute total stretch potential energy of the CO2 system. Default value for k is the force constant for CO2 from: [Looking at molecules as oscillators](http://spiff.rit.edu/classes/phys283/lectures/molecule/molecule.html)"
   ]
  },
  {
   "cell_type": "code",
   "execution_count": null,
   "metadata": {},
   "outputs": [],
   "source": [
    "def total_stretch_energy(r_o1, r_o2, k=1900e-10):\n",
    "    \"\"\" \n",
    "    Calculates total stretch energy of a CO2 system. Since CO2\n",
    "    is linear, all coordinates are a radius relative to 0. C\n",
    "    sits at 0, and O1 and O2 sit at their respective radii to the\n",
    "    left and right respectively.\n",
    "\n",
    "    Parameters\n",
    "    ----------\n",
    "    r_o1: float\n",
    "        The radius of o1 in meters (on the order of 10^-10 m, and < 0)\n",
    "\n",
    "    r_o2: float\n",
    "        The radius of o2 in meters (on the order 10^-10 m, and > 0)\n",
    "\n",
    "    k: float\n",
    "        Force constant of the C=O bonds in N/m.\n",
    "    \"\"\"\n",
    "    pass"
   ]
  }
 ],
 "metadata": {
  "kernelspec": {
   "display_name": "simple-molecular-mechanics",
   "language": "python",
   "name": "python3"
  },
  "language_info": {
   "codemirror_mode": {
    "name": "ipython",
    "version": 3
   },
   "file_extension": ".py",
   "mimetype": "text/x-python",
   "name": "python",
   "nbconvert_exporter": "python",
   "pygments_lexer": "ipython3",
   "version": "3.11.7"
  }
 },
 "nbformat": 4,
 "nbformat_minor": 2
}
